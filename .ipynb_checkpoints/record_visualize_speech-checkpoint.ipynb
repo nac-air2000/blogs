{
 "cells": [
  {
   "cell_type": "code",
   "execution_count": null,
   "metadata": {
    "colab": {
     "base_uri": "https://localhost:8080/",
     "height": 304
    },
    "colab_type": "code",
    "executionInfo": {
     "elapsed": 763,
     "status": "error",
     "timestamp": 1555462587889,
     "user": {
      "displayName": "masa ue",
      "photoUrl": "",
      "userId": "07501634361936376080"
     },
     "user_tz": -540
    },
    "id": "XD9aw96jy1nb",
    "outputId": "f9ae7d42-d5d0-4f43-b245-bed42639a9c9"
   },
   "outputs": [],
   "source": [
    "import pyaudio, wave"
   ]
  },
  {
   "cell_type": "markdown",
   "metadata": {
    "colab_type": "text",
    "id": "wCRF3vvRy1nd"
   },
   "source": [
    "## record (5 [sec])"
   ]
  },
  {
   "cell_type": "code",
   "execution_count": null,
   "metadata": {
    "colab": {},
    "colab_type": "code",
    "id": "REjHPltPy1ne",
    "outputId": "53b18cde-e4ae-4eee-f4a4-d0a96e3b13fb"
   },
   "outputs": [],
   "source": [
    "CHUNK = 1024\n",
    "FORMAT = pyaudio.paInt16\n",
    "CHANNELS = 1\n",
    "RATE = 44100\n",
    "RECORD_SECOND = 5\n",
    "WAVE_OUTPUT_FILENAME = \"output.wav\"\n",
    "\n",
    "p = pyaudio.PyAudio()\n",
    "\n",
    "stream = p.open(format=FORMAT,\n",
    "                       channels=CHANNELS,\n",
    "                       rate=RATE,\n",
    "                       input=True,\n",
    "                       frames_per_buffer=CHUNK)\n",
    "\n",
    "print(\"* recording\")\n",
    "\n",
    "frames=[]\n",
    "for i in range(0, int(RATE / CHUNK * RECORD_SECOND)):\n",
    "    data = stream.read(CHUNK)\n",
    "    frames.append(data)\n",
    "\n",
    "print(\"* done recording\")\n",
    "\n",
    "stream.stop_stream()\n",
    "stream.close()\n",
    "p.terminate()\n",
    "\n",
    "wf = wave.open(WAVE_OUTPUT_FILENAME, 'wb')\n",
    "wf.setnchannels(CHANNELS)\n",
    "wf.setsampwidth(p.get_sample_size(FORMAT))\n",
    "wf.setframerate(RATE)\n",
    "wf.writeframes(b''.join(frames))\n",
    "wf.close()"
   ]
  },
  {
   "cell_type": "markdown",
   "metadata": {
    "colab_type": "text",
    "id": "d1YkdWHqy1ni"
   },
   "source": [
    "## visualize recorded data"
   ]
  },
  {
   "cell_type": "code",
   "execution_count": null,
   "metadata": {
    "colab": {},
    "colab_type": "code",
    "id": "DSZdrxQCy1ni"
   },
   "outputs": [],
   "source": [
    "import matplotlib.pyplot as plt\n",
    "from scipy.io.wavfile import read"
   ]
  },
  {
   "cell_type": "code",
   "execution_count": null,
   "metadata": {
    "colab": {},
    "colab_type": "code",
    "id": "sEe1vum9y1nk",
    "outputId": "fc867ff9-aef5-413d-968d-6717aafce892"
   },
   "outputs": [],
   "source": [
    "fs, speech_data = read(WAVE_OUTPUT_FILENAME)\n",
    "\n",
    "plt.subplot(2,1,1)\n",
    "plt.title(\"waveform\")\n",
    "plt.plot(speech_data)\n",
    "plt.xlim(0, len(speech_data))\n",
    "plt.xlabel(\"sample\")\n",
    "plt.ylabel(\"amplitude\")\n",
    "\n",
    "plt.subplot(2,1,2)\n",
    "plt.title(\"spectrogram\")\n",
    "plt.specgram(speech_data, Fs=fs)\n",
    "plt.xlabel(\"time [s]\")\n",
    "plt.ylabel(\"frequency [Hz]\")\n",
    "\n",
    "plt.tight_layout()\n",
    "plt.show()"
   ]
  },
  {
   "cell_type": "markdown",
   "metadata": {
    "colab_type": "text",
    "id": "msqG942by1nm"
   },
   "source": [
    "## play recorded data"
   ]
  },
  {
   "cell_type": "code",
   "execution_count": null,
   "metadata": {
    "colab": {},
    "colab_type": "code",
    "id": "7xfiHg9oy1nn"
   },
   "outputs": [],
   "source": [
    "wf = wave.open(WAVE_OUTPUT_FILENAME, 'rb')\n",
    "p = pyaudio.PyAudio()\n",
    "stream = p.open(format=p.get_format_from_width(wf.getsampwidth()),\n",
    "                       channels=wf.getnchannels(),\n",
    "                       rate=wf.getframerate(),\n",
    "                       output=True)\n",
    "data = wf.readframes(CHUNK)\n",
    "while data != b'':\n",
    "    stream.write(data)\n",
    "    data = wf.readframes(CHUNK)\n",
    "    \n",
    "stream.stop_stream()\n",
    "stream.close()\n",
    "\n",
    "p.terminate()"
   ]
  },
  {
   "cell_type": "code",
   "execution_count": null,
   "metadata": {
    "colab": {},
    "colab_type": "code",
    "id": "04fEuWTOy1no"
   },
   "outputs": [],
   "source": []
  }
 ],
 "metadata": {
  "colab": {
   "name": "record_visualize_speech.ipynb",
   "provenance": [],
   "toc_visible": true,
   "version": "0.3.2"
  },
  "kernelspec": {
   "display_name": "Python 3",
   "language": "python",
   "name": "python3"
  },
  "language_info": {
   "codemirror_mode": {
    "name": "ipython",
    "version": 3
   },
   "file_extension": ".py",
   "mimetype": "text/x-python",
   "name": "python",
   "nbconvert_exporter": "python",
   "pygments_lexer": "ipython3",
   "version": "3.7.3"
  }
 },
 "nbformat": 4,
 "nbformat_minor": 1
}
