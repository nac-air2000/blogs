{
  "nbformat": 4,
  "nbformat_minor": 0,
  "metadata": {
    "colab": {
      "name": "kNN_iris.ipynb",
      "version": "0.3.2",
      "provenance": []
    },
    "kernelspec": {
      "name": "python3",
      "display_name": "Python 3"
    }
  },
  "cells": [
    {
      "cell_type": "code",
      "metadata": {
        "id": "zhyQ83igatoD",
        "colab_type": "code",
        "colab": {}
      },
      "source": [
        "import numpy as np\n",
        "import matplotlib.pyplot as plt\n",
        "from sklearn.datasets import load_iris\n",
        "from sklearn.neighbors import KNeighborsClassifier\n",
        "from sklearn.model_selection import cross_val_predict\n",
        "from sklearn.metrics import confusion_matrix\n",
        "from sklearn.model_selection import cross_val_score"
      ],
      "execution_count": 0,
      "outputs": []
    },
    {
      "cell_type": "markdown",
      "metadata": {
        "id": "bJXvNqH5dCqd",
        "colab_type": "text"
      },
      "source": [
        "## データ読み込み\n",
        "X: 花弁の幅，長さ，萼片の幅，長さの4次元のデータが150個  \n",
        "y: データと対応するクラス(0: setosa, 1: versicolor, 2: virginica)が150個"
      ]
    },
    {
      "cell_type": "code",
      "metadata": {
        "id": "pFMEAYOZTGi6",
        "colab_type": "code",
        "colab": {}
      },
      "source": [
        "iris = load_iris()\n",
        "X = iris.data\n",
        "y = iris.target"
      ],
      "execution_count": 0,
      "outputs": []
    },
    {
      "cell_type": "markdown",
      "metadata": {
        "id": "0Y4PV7BZdsdM",
        "colab_type": "text"
      },
      "source": [
        "## k-NN法の適用（学習）\n",
        "1. インスタンスの生成\n",
        "1. CV法による評価(10-fold CV)\n",
        "1. 混同行列の表示"
      ]
    },
    {
      "cell_type": "code",
      "metadata": {
        "id": "hT806DfRTKA5",
        "colab_type": "code",
        "colab": {
          "base_uri": "https://localhost:8080/",
          "height": 68
        },
        "outputId": "e7366f42-51ce-4854-8c78-cea0cadf83e0"
      },
      "source": [
        "knn = KNeighborsClassifier(n_neighbors=3)\n",
        "y_pred = cross_val_predict(knn, X, y, cv=10)\n",
        "confusion_matrix(y, y_pred)"
      ],
      "execution_count": 27,
      "outputs": [
        {
          "output_type": "execute_result",
          "data": {
            "text/plain": [
              "array([[50,  0,  0],\n",
              "       [ 0, 47,  3],\n",
              "       [ 0,  2, 48]])"
            ]
          },
          "metadata": {
            "tags": []
          },
          "execution_count": 27
        }
      ]
    },
    {
      "cell_type": "markdown",
      "metadata": {
        "id": "Y4NXXE-deCK6",
        "colab_type": "text"
      },
      "source": [
        "## 実験\n",
        "近傍の点（k: n_neighbor）と正答率の変化"
      ]
    },
    {
      "cell_type": "code",
      "metadata": {
        "id": "8KAdpZ3GWTn9",
        "colab_type": "code",
        "colab": {
          "base_uri": "https://localhost:8080/",
          "height": 300
        },
        "outputId": "b37e7e9f-5e1a-4cbf-d625-a234dee515b9"
      },
      "source": [
        "scores_n = []\n",
        "for i in range(1,135):\n",
        "    knn = KNeighborsClassifier(n_neighbors=i)\n",
        "    score = cross_val_score(knn, X, y, cv=10)\n",
        "    scores_n.append(score.mean())\n",
        "\n",
        "plt.xlabel(\"k\")\n",
        "plt.ylabel(\"accuracy [%]\")\n",
        "plt.plot(scores_n)"
      ],
      "execution_count": 28,
      "outputs": [
        {
          "output_type": "execute_result",
          "data": {
            "text/plain": [
              "[<matplotlib.lines.Line2D at 0x7f5aee96b2e8>]"
            ]
          },
          "metadata": {
            "tags": []
          },
          "execution_count": 28
        },
        {
          "output_type": "display_data",
          "data": {
            "image/png": "[encoded data removed]",
            "text/plain": [
              "<Figure size 432x288 with 1 Axes>"
            ]
          },
          "metadata": {
            "tags": []
          }
        }
      ]
    },
    {
      "cell_type": "code",
      "metadata": {
        "id": "KyU-gOz6WY0p",
        "colab_type": "code",
        "colab": {}
      },
      "source": [
        ""
      ],
      "execution_count": 0,
      "outputs": []
    }
  ]
}