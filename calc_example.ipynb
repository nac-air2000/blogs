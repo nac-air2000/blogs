{
  "nbformat": 4,
  "nbformat_minor": 0,
  "metadata": {
    "colab": {
      "name": "calc_example.ipynb",
      "version": "0.3.2",
      "provenance": [],
      "toc_visible": true
    },
    "kernelspec": {
      "name": "python3",
      "display_name": "Python 3"
    }
  },
  "cells": [
    {
      "metadata": {
        "id": "vnQR0kwl_wpP",
        "colab_type": "text"
      },
      "cell_type": "markdown",
      "source": [
        "# 数値の計算"
      ]
    },
    {
      "metadata": {
        "id": "g-no3uUaCAtE",
        "colab_type": "text"
      },
      "cell_type": "markdown",
      "source": [
        "## 変数の定義"
      ]
    },
    {
      "metadata": {
        "id": "zdZRxUa5_3r8",
        "colab_type": "code",
        "colab": {}
      },
      "cell_type": "code",
      "source": [
        "a = 11\n",
        "b = 2"
      ],
      "execution_count": 0,
      "outputs": []
    },
    {
      "metadata": {
        "id": "YfLggTUcCFKA",
        "colab_type": "text"
      },
      "cell_type": "markdown",
      "source": [
        "## 定義した数字を使った計算\n",
        "- sum_ab: 足し算(summation)\n",
        "- sub_ab: 引き算(subtraction)\n",
        "- multi_ab: 掛け算(multiplication)\n",
        "- dev_ab: 割り算(division)\n",
        "- rem_ab: 割り算の余り(division remainder)"
      ]
    },
    {
      "metadata": {
        "id": "7z7Vm3vKCEmu",
        "colab_type": "code",
        "colab": {}
      },
      "cell_type": "code",
      "source": [
        "sum_ab = a + b\n",
        "sub_ab = a - b\n",
        "multi_ab = a * b\n",
        "div_ab = a / b\n",
        "rem_ab = a % b"
      ],
      "execution_count": 0,
      "outputs": []
    },
    {
      "metadata": {
        "id": "7VgH-5VaDkBg",
        "colab_type": "text"
      },
      "cell_type": "markdown",
      "source": [
        "## 結果の可視化 (print)\n",
        "str()を使って数値を文字列として扱っている"
      ]
    },
    {
      "metadata": {
        "id": "pjT4T0dZAhqi",
        "colab_type": "code",
        "outputId": "86cd321c-109f-4f21-a611-0b02e92fbab1",
        "colab": {
          "base_uri": "https://localhost:8080/",
          "height": 107
        }
      },
      "cell_type": "code",
      "source": [
        "print(\"和: \" + str(sum_ab) +\"\\n\"\n",
        "     +\"差: \" + str(sub_ab) +\"\\n\"\n",
        "     +\"積: \" + str(multi_ab) +\"\\n\"\n",
        "     +\"商: \" + str(div_ab) +\"\\n\"\n",
        "     +\"剰余: \"+ str(rem_ab))"
      ],
      "execution_count": 0,
      "outputs": [
        {
          "output_type": "stream",
          "text": [
            "和: 13\n",
            "差: 9\n",
            "積: 22\n",
            "商: 5.5\n",
            "剰余: 1\n"
          ],
          "name": "stdout"
        }
      ]
    }
  ]
}