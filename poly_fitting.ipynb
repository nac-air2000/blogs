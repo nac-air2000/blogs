{
  "nbformat": 4,
  "nbformat_minor": 0,
  "metadata": {
    "colab": {
      "name": "poly_fitting.ipynb",
      "version": "0.3.2",
      "provenance": []
    },
    "kernelspec": {
      "name": "python3",
      "display_name": "Python 3"
    }
  },
  "cells": [
    {
      "cell_type": "code",
      "metadata": {
        "id": "9nDyO3-Vue9I",
        "colab_type": "code",
        "colab": {}
      },
      "source": [
        "from numpy import random\n",
        "import matplotlib.pyplot as plt\n",
        "import numpy as np"
      ],
      "execution_count": 0,
      "outputs": []
    },
    {
      "cell_type": "markdown",
      "metadata": {
        "id": "ZBtqsjfK0bTR",
        "colab_type": "text"
      },
      "source": [
        "## 現象の元となる関数\n",
        "\n",
        "### parameters\n",
        "a, b, c: 曲線を決定するパラメータ  \n",
        "target_min, target_max: 対象とする範囲"
      ]
    },
    {
      "cell_type": "code",
      "metadata": {
        "id": "Wp0uqVncugTv",
        "colab_type": "code",
        "colab": {
          "base_uri": "https://localhost:8080/",
          "height": 320
        },
        "outputId": "40e0a95f-0b6f-4dad-887f-9b28d61fc87a"
      },
      "source": [
        "a = 1.0\n",
        "b = 2.0\n",
        "c = 3.0\n",
        "\n",
        "target_min = 0.0\n",
        "target_max = 4.0\n",
        "\n",
        "f = np.poly1d([a, b, c], True)\n",
        "x = np.linspace(target_min, target_max, int(target_max-target_min)*20)\n",
        "\n",
        "print(f)\n",
        "plt.plot(x,f(x))"
      ],
      "execution_count": 2,
      "outputs": [
        {
          "output_type": "stream",
          "text": [
            "   3     2\n",
            "1 x - 6 x + 11 x - 6\n"
          ],
          "name": "stdout"
        },
        {
          "output_type": "execute_result",
          "data": {
            "text/plain": [
              "[<matplotlib.lines.Line2D at 0x7f0c3f71ab00>]"
            ]
          },
          "metadata": {
            "tags": []
          },
          "execution_count": 2
        },
        {
          "output_type": "display_data",
          "data": {
            "image/png": "[encoded data removed]",
            "text/plain": [
              "<Figure size 432x288 with 1 Axes>"
            ]
          },
          "metadata": {
            "tags": []
          }
        }
      ]
    },
    {
      "cell_type": "markdown",
      "metadata": {
        "id": "piNC3tbQ0f-X",
        "colab_type": "text"
      },
      "source": [
        "## 観測されたノイズ込みの離散データ\n",
        "ノイズはガウス分布に基づいて与えるものとした\n",
        "### parameters\n",
        "ave: ノイズの平均値  \n",
        "sd: ノイズの標準偏差  \n",
        "data_N: 観測できたデータ点数  "
      ]
    },
    {
      "cell_type": "code",
      "metadata": {
        "id": "XQ8hOT6ewq82",
        "colab_type": "code",
        "colab": {
          "base_uri": "https://localhost:8080/",
          "height": 283
        },
        "outputId": "75471ba1-080e-4e2c-9c82-fc25bc2841a8"
      },
      "source": [
        "ave = 0.0\n",
        "sd = 1.0\n",
        "data_N = 7\n",
        "\n",
        "y=[]\n",
        "data_x = np.linspace(target_min, target_max, data_N)\n",
        "for i in range(len(f(data_x))):\n",
        "    y.append(f(data_x)[i] + random.normal(loc=0.0, scale=1.0))\n",
        "\n",
        "plt.xlabel(\"x\")\n",
        "plt.ylabel(\"y\")\n",
        "plt.scatter(data_x, y);"
      ],
      "execution_count": 3,
      "outputs": [
        {
          "output_type": "display_data",
          "data": {
            "image/png": "[encoded data removed]",
            "text/plain": [
              "<Figure size 432x288 with 1 Axes>"
            ]
          },
          "metadata": {
            "tags": []
          }
        }
      ]
    },
    {
      "cell_type": "markdown",
      "metadata": {
        "id": "roO0Khmw0o3w",
        "colab_type": "text"
      },
      "source": [
        "## 最小二乗法での多項式曲線フィッティング\n",
        "### parameters\n",
        "order: フィッティングする多項式の最大次数"
      ]
    },
    {
      "cell_type": "code",
      "metadata": {
        "id": "UjniHoErxkm3",
        "colab_type": "code",
        "colab": {
          "base_uri": "https://localhost:8080/",
          "height": 283
        },
        "outputId": "3d576282-2770-4f8f-ae3f-4f001e6740bf"
      },
      "source": [
        "order = 1\n",
        "\n",
        "estimated_parameters = np.polyfit(data_x, y, order)\n",
        "estimated_curve = np.poly1d(estimated_parameters)\n",
        "\n",
        "plt.xlabel(\"x\")\n",
        "plt.ylabel(\"y\")\n",
        "plt.plot(x, estimated_curve(x))\n",
        "plt.scatter(data_x, y);"
      ],
      "execution_count": 4,
      "outputs": [
        {
          "output_type": "display_data",
          "data": {
            "image/png": "[encoded data removed]",
            "text/plain": [
              "<Figure size 432x288 with 1 Axes>"
            ]
          },
          "metadata": {
            "tags": []
          }
        }
      ]
    },
    {
      "cell_type": "markdown",
      "metadata": {
        "id": "6aCEIcqR73Lq",
        "colab_type": "text"
      },
      "source": [
        "## 性能確認\n",
        "平均二乗誤差を計算"
      ]
    },
    {
      "cell_type": "code",
      "metadata": {
        "id": "vpfm_LguzgqP",
        "colab_type": "code",
        "colab": {
          "base_uri": "https://localhost:8080/",
          "height": 34
        },
        "outputId": "180b194f-ff1d-4d3d-cd28-d05efcf3127c"
      },
      "source": [
        "rate = int(data_N / (target_max-target_min)*20)\n",
        "\n",
        "square_error = 0\n",
        "for i in range(data_N):\n",
        "    square_error += (estimated_curve[int(rate*i)] - y[i]) ** 2\n",
        "mse = square_error / data_N\n",
        "print(mse)"
      ],
      "execution_count": 5,
      "outputs": [
        {
          "output_type": "stream",
          "text": [
            "7.725099891697679\n"
          ],
          "name": "stdout"
        }
      ]
    },
    {
      "cell_type": "code",
      "metadata": {
        "id": "ykIOUsCy7YUg",
        "colab_type": "code",
        "colab": {}
      },
      "source": [
        ""
      ],
      "execution_count": 0,
      "outputs": []
    }
  ]
}